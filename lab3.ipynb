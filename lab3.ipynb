{
  "nbformat": 4,
  "nbformat_minor": 0,
  "metadata": {
    "colab": {
      "name": "Untitled21.ipynb",
      "provenance": [],
      "authorship_tag": "ABX9TyOL2zSq3rw1EKi7YllaNQlE",
      "include_colab_link": true
    },
    "kernelspec": {
      "name": "python3",
      "display_name": "Python 3"
    },
    "language_info": {
      "name": "python"
    }
  },
  "cells": [
    {
      "cell_type": "markdown",
      "metadata": {
        "id": "view-in-github",
        "colab_type": "text"
      },
      "source": [
        "<a href=\"https://colab.research.google.com/github/longminh123/Nhapmonhocsau/blob/main/lab3.ipynb\" target=\"_parent\"><img src=\"https://colab.research.google.com/assets/colab-badge.svg\" alt=\"Open In Colab\"/></a>"
      ]
    },
    {
      "cell_type": "code",
      "metadata": {
        "colab": {
          "base_uri": "https://localhost:8080/"
        },
        "id": "eYBzJHqlqhoJ",
        "outputId": "3925f034-3f8e-425b-d271-4dc468e117e3"
      },
      "source": [
        "import pandas as pd\n",
        "import seaborn as sns\n",
        "colum_names = [\"Id\", \"Name\",\"Age\",\"Weight\",\"m0006\",\"m0612\",\"m1218\",\"f0006\",\"f0612\",\"f1218\"]\n",
        "df = pd.read_csv(\"patient_heart_rate.csv\", names = colum_names)\n",
        "print(df.head())"
      ],
      "execution_count": 34,
      "outputs": [
        {
          "output_type": "stream",
          "name": "stdout",
          "text": [
            "    Id            Name   Age      Weight m0006 m0612 m1218 f0006 f0612 f1218\n",
            "0  1.0    Mickéy Mousé  56.0       70kgs    72    69    71     -     -     -\n",
            "1  2.0     Donald Duck  34.0   154.89lbs     -     -     -    85    84    76\n",
            "2  3.0      Mini Mouse  16.0         NaN     -     -     -    65    69    72\n",
            "3  4.0  Scrooge McDuck   NaN       78kgs    78    79    72     -     -     -\n",
            "4  5.0    Pink Panther  54.0  198.658lbs     -     -     -    69   NaN    75\n"
          ]
        }
      ]
    },
    {
      "cell_type": "code",
      "metadata": {
        "colab": {
          "base_uri": "https://localhost:8080/"
        },
        "id": "j8468TouqokW",
        "outputId": "ff371161-0e66-4423-dec5-b57ee2856755"
      },
      "source": [
        "df[['Firstname','Lastname']] = df['Name'].str.split(expand = True)\n",
        "df = df.drop('Name',axis = 1)\n",
        "print(df)"
      ],
      "execution_count": 2,
      "outputs": [
        {
          "output_type": "stream",
          "name": "stdout",
          "text": [
            "      Id   Age      Weight m0006 m0612  ... f0006 f0612 f1218 Firstname Lastname\n",
            "0    1.0  56.0       70kgs    72    69  ...     -     -     -    Mickéy    Mousé\n",
            "1    2.0  34.0   154.89lbs     -     -  ...    85    84    76    Donald     Duck\n",
            "2    3.0  16.0         NaN     -     -  ...    65    69    72      Mini    Mouse\n",
            "3    4.0   NaN       78kgs    78    79  ...     -     -     -   Scrooge   McDuck\n",
            "4    5.0  54.0  198.658lbs     -     -  ...    69   NaN    75      Pink  Panther\n",
            "5    6.0  52.0      189lbs     -     -  ...    68    75    72      Huey   McDuck\n",
            "6    7.0  19.0       56kgs     -     -  ...    71    78    75     Dewey   McDuck\n",
            "7    8.0  32.0       78kgs    78    76  ...     -     -     -    Scööpy      Doo\n",
            "8    NaN   NaN         NaN   NaN   NaN  ...   NaN   NaN   NaN       NaN      NaN\n",
            "9    NaN   NaN         NaN   NaN   NaN  ...   NaN   NaN   NaN       NaN      NaN\n",
            "10   9.0  52.0      189lbs     -     -  ...    68    75    72      Huey   McDuck\n",
            "11  10.0  12.0       45kgs     -     -  ...    92    95    87     Louie   McDuck\n",
            "12  11.0   NaN       60kgs    78    75  ...     -     -     -     Henry      Nam\n",
            "13  12.0  34.0         NaN    65    67  ...     -     -     -    Michel     Long\n",
            "14  13.0   NaN         NaN     -     -  ...    68    72    70      Tana    Ricky\n",
            "15  14.0   NaN         NaN   NaN   NaN  ...   NaN   NaN   NaN  UniLever     None\n",
            "16  15.0  52.0      180lbs     -     -  ...    68    75    72       NaN      NaN\n",
            "\n",
            "[17 rows x 11 columns]\n"
          ]
        }
      ]
    },
    {
      "cell_type": "code",
      "metadata": {
        "colab": {
          "base_uri": "https://localhost:8080/"
        },
        "id": "sM-CAXP1qqMv",
        "outputId": "bf0dc545-6940-41a9-d5e7-18c0e0fe724a"
      },
      "source": [
        "weight = df['Weight']\n",
        "\n",
        "for i in range (0,len(weight)):\n",
        "    x = str(weight[i])\n",
        "    if \"lbs\" in x[-3:]:\n",
        "        x = x[:-3:]\n",
        "        float_x = float(x)\n",
        "        y = int(float_x/2.2)\n",
        "        y = str(y)+\"kgs\"\n",
        "        weight[i] = y\n",
        "print(df)\n",
        "\n",
        "df.dropna(how = \"all\",inplace = True)\n",
        "print(df)"
      ],
      "execution_count": 3,
      "outputs": [
        {
          "output_type": "stream",
          "name": "stdout",
          "text": [
            "      Id   Age Weight m0006 m0612 m1218 f0006 f0612 f1218 Firstname Lastname\n",
            "0    1.0  56.0  70kgs    72    69    71     -     -     -    Mickéy    Mousé\n",
            "1    2.0  34.0  70kgs     -     -     -    85    84    76    Donald     Duck\n",
            "2    3.0  16.0    NaN     -     -     -    65    69    72      Mini    Mouse\n",
            "3    4.0   NaN  78kgs    78    79    72     -     -     -   Scrooge   McDuck\n",
            "4    5.0  54.0  90kgs     -     -     -    69   NaN    75      Pink  Panther\n",
            "5    6.0  52.0  85kgs     -     -     -    68    75    72      Huey   McDuck\n",
            "6    7.0  19.0  56kgs     -     -     -    71    78    75     Dewey   McDuck\n",
            "7    8.0  32.0  78kgs    78    76    75     -     -     -    Scööpy      Doo\n",
            "8    NaN   NaN    NaN   NaN   NaN   NaN   NaN   NaN   NaN       NaN      NaN\n",
            "9    NaN   NaN    NaN   NaN   NaN   NaN   NaN   NaN   NaN       NaN      NaN\n",
            "10   9.0  52.0  85kgs     -     -     -    68    75    72      Huey   McDuck\n",
            "11  10.0  12.0  45kgs     -     -     -    92    95    87     Louie   McDuck\n",
            "12  11.0   NaN  60kgs    78    75    72     -     -     -     Henry      Nam\n",
            "13  12.0  34.0    NaN    65    67    55     -     -     -    Michel     Long\n",
            "14  13.0   NaN    NaN     -     -     -    68    72    70      Tana    Ricky\n",
            "15  14.0   NaN    NaN   NaN   NaN   NaN   NaN   NaN   NaN  UniLever     None\n",
            "16  15.0  52.0  81kgs     -     -     -    68    75    72       NaN      NaN\n",
            "      Id   Age Weight m0006 m0612 m1218 f0006 f0612 f1218 Firstname Lastname\n",
            "0    1.0  56.0  70kgs    72    69    71     -     -     -    Mickéy    Mousé\n",
            "1    2.0  34.0  70kgs     -     -     -    85    84    76    Donald     Duck\n",
            "2    3.0  16.0    NaN     -     -     -    65    69    72      Mini    Mouse\n",
            "3    4.0   NaN  78kgs    78    79    72     -     -     -   Scrooge   McDuck\n",
            "4    5.0  54.0  90kgs     -     -     -    69   NaN    75      Pink  Panther\n",
            "5    6.0  52.0  85kgs     -     -     -    68    75    72      Huey   McDuck\n",
            "6    7.0  19.0  56kgs     -     -     -    71    78    75     Dewey   McDuck\n",
            "7    8.0  32.0  78kgs    78    76    75     -     -     -    Scööpy      Doo\n",
            "10   9.0  52.0  85kgs     -     -     -    68    75    72      Huey   McDuck\n",
            "11  10.0  12.0  45kgs     -     -     -    92    95    87     Louie   McDuck\n",
            "12  11.0   NaN  60kgs    78    75    72     -     -     -     Henry      Nam\n",
            "13  12.0  34.0    NaN    65    67    55     -     -     -    Michel     Long\n",
            "14  13.0   NaN    NaN     -     -     -    68    72    70      Tana    Ricky\n",
            "15  14.0   NaN    NaN   NaN   NaN   NaN   NaN   NaN   NaN  UniLever     None\n",
            "16  15.0  52.0  81kgs     -     -     -    68    75    72       NaN      NaN\n"
          ]
        },
        {
          "output_type": "stream",
          "name": "stderr",
          "text": [
            "/usr/local/lib/python3.7/dist-packages/ipykernel_launcher.py:10: SettingWithCopyWarning: \n",
            "A value is trying to be set on a copy of a slice from a DataFrame\n",
            "\n",
            "See the caveats in the documentation: https://pandas.pydata.org/pandas-docs/stable/user_guide/indexing.html#returning-a-view-versus-a-copy\n",
            "  # Remove the CWD from sys.path while we load stuff.\n"
          ]
        }
      ]
    },
    {
      "cell_type": "code",
      "metadata": {
        "colab": {
          "base_uri": "https://localhost:8080/"
        },
        "id": "vYfFOKH2qsTn",
        "outputId": "2e085ba5-12d5-43f6-e78a-86be2c5392c3"
      },
      "source": [
        "df = df.drop_duplicates(subset = ['Firstname','Lastname','Age','Weight'])\n",
        "print(df)"
      ],
      "execution_count": 4,
      "outputs": [
        {
          "output_type": "stream",
          "name": "stdout",
          "text": [
            "      Id   Age Weight m0006 m0612 m1218 f0006 f0612 f1218 Firstname Lastname\n",
            "0    1.0  56.0  70kgs    72    69    71     -     -     -    Mickéy    Mousé\n",
            "1    2.0  34.0  70kgs     -     -     -    85    84    76    Donald     Duck\n",
            "2    3.0  16.0    NaN     -     -     -    65    69    72      Mini    Mouse\n",
            "3    4.0   NaN  78kgs    78    79    72     -     -     -   Scrooge   McDuck\n",
            "4    5.0  54.0  90kgs     -     -     -    69   NaN    75      Pink  Panther\n",
            "5    6.0  52.0  85kgs     -     -     -    68    75    72      Huey   McDuck\n",
            "6    7.0  19.0  56kgs     -     -     -    71    78    75     Dewey   McDuck\n",
            "7    8.0  32.0  78kgs    78    76    75     -     -     -    Scööpy      Doo\n",
            "11  10.0  12.0  45kgs     -     -     -    92    95    87     Louie   McDuck\n",
            "12  11.0   NaN  60kgs    78    75    72     -     -     -     Henry      Nam\n",
            "13  12.0  34.0    NaN    65    67    55     -     -     -    Michel     Long\n",
            "14  13.0   NaN    NaN     -     -     -    68    72    70      Tana    Ricky\n",
            "15  14.0   NaN    NaN   NaN   NaN   NaN   NaN   NaN   NaN  UniLever     None\n",
            "16  15.0  52.0  81kgs     -     -     -    68    75    72       NaN      NaN\n"
          ]
        }
      ]
    },
    {
      "cell_type": "code",
      "metadata": {
        "colab": {
          "base_uri": "https://localhost:8080/"
        },
        "id": "HIQuMK81qt1n",
        "outputId": "49b09971-c706-4a4e-b022-cdb325209a6b"
      },
      "source": [
        "df.Firstname.replace({r'[^\\x00-\\x7F]+':''},regex =True , inplace = True)\n",
        "df.Lastname.replace({r'[^\\x00-\\x7F]+':''},regex =True , inplace = True)\n",
        "print(df)"
      ],
      "execution_count": 5,
      "outputs": [
        {
          "output_type": "stream",
          "name": "stdout",
          "text": [
            "      Id   Age Weight m0006 m0612 m1218 f0006 f0612 f1218 Firstname Lastname\n",
            "0    1.0  56.0  70kgs    72    69    71     -     -     -     Micky     Mous\n",
            "1    2.0  34.0  70kgs     -     -     -    85    84    76    Donald     Duck\n",
            "2    3.0  16.0    NaN     -     -     -    65    69    72      Mini    Mouse\n",
            "3    4.0   NaN  78kgs    78    79    72     -     -     -   Scrooge   McDuck\n",
            "4    5.0  54.0  90kgs     -     -     -    69   NaN    75      Pink  Panther\n",
            "5    6.0  52.0  85kgs     -     -     -    68    75    72      Huey   McDuck\n",
            "6    7.0  19.0  56kgs     -     -     -    71    78    75     Dewey   McDuck\n",
            "7    8.0  32.0  78kgs    78    76    75     -     -     -      Scpy      Doo\n",
            "11  10.0  12.0  45kgs     -     -     -    92    95    87     Louie   McDuck\n",
            "12  11.0   NaN  60kgs    78    75    72     -     -     -     Henry      Nam\n",
            "13  12.0  34.0    NaN    65    67    55     -     -     -    Michel     Long\n",
            "14  13.0   NaN    NaN     -     -     -    68    72    70      Tana    Ricky\n",
            "15  14.0   NaN    NaN   NaN   NaN   NaN   NaN   NaN   NaN  UniLever     None\n",
            "16  15.0  52.0  81kgs     -     -     -    68    75    72       NaN      NaN\n"
          ]
        }
      ]
    },
    {
      "cell_type": "code",
      "metadata": {
        "colab": {
          "base_uri": "https://localhost:8080/",
          "height": 206
        },
        "id": "lY2T2iNWqw0H",
        "outputId": "ebc1a498-240a-41b4-c58e-10cde72af950"
      },
      "source": [
        "df.dropna(how=\"all\", inplace=True)\n",
        "df.head(5)"
      ],
      "execution_count": 6,
      "outputs": [
        {
          "output_type": "execute_result",
          "data": {
            "text/html": [
              "<div>\n",
              "<style scoped>\n",
              "    .dataframe tbody tr th:only-of-type {\n",
              "        vertical-align: middle;\n",
              "    }\n",
              "\n",
              "    .dataframe tbody tr th {\n",
              "        vertical-align: top;\n",
              "    }\n",
              "\n",
              "    .dataframe thead th {\n",
              "        text-align: right;\n",
              "    }\n",
              "</style>\n",
              "<table border=\"1\" class=\"dataframe\">\n",
              "  <thead>\n",
              "    <tr style=\"text-align: right;\">\n",
              "      <th></th>\n",
              "      <th>Id</th>\n",
              "      <th>Age</th>\n",
              "      <th>Weight</th>\n",
              "      <th>m0006</th>\n",
              "      <th>m0612</th>\n",
              "      <th>m1218</th>\n",
              "      <th>f0006</th>\n",
              "      <th>f0612</th>\n",
              "      <th>f1218</th>\n",
              "      <th>Firstname</th>\n",
              "      <th>Lastname</th>\n",
              "    </tr>\n",
              "  </thead>\n",
              "  <tbody>\n",
              "    <tr>\n",
              "      <th>0</th>\n",
              "      <td>1.0</td>\n",
              "      <td>56.0</td>\n",
              "      <td>70kgs</td>\n",
              "      <td>72</td>\n",
              "      <td>69</td>\n",
              "      <td>71</td>\n",
              "      <td>-</td>\n",
              "      <td>-</td>\n",
              "      <td>-</td>\n",
              "      <td>Micky</td>\n",
              "      <td>Mous</td>\n",
              "    </tr>\n",
              "    <tr>\n",
              "      <th>1</th>\n",
              "      <td>2.0</td>\n",
              "      <td>34.0</td>\n",
              "      <td>70kgs</td>\n",
              "      <td>-</td>\n",
              "      <td>-</td>\n",
              "      <td>-</td>\n",
              "      <td>85</td>\n",
              "      <td>84</td>\n",
              "      <td>76</td>\n",
              "      <td>Donald</td>\n",
              "      <td>Duck</td>\n",
              "    </tr>\n",
              "    <tr>\n",
              "      <th>2</th>\n",
              "      <td>3.0</td>\n",
              "      <td>16.0</td>\n",
              "      <td>NaN</td>\n",
              "      <td>-</td>\n",
              "      <td>-</td>\n",
              "      <td>-</td>\n",
              "      <td>65</td>\n",
              "      <td>69</td>\n",
              "      <td>72</td>\n",
              "      <td>Mini</td>\n",
              "      <td>Mouse</td>\n",
              "    </tr>\n",
              "    <tr>\n",
              "      <th>3</th>\n",
              "      <td>4.0</td>\n",
              "      <td>NaN</td>\n",
              "      <td>78kgs</td>\n",
              "      <td>78</td>\n",
              "      <td>79</td>\n",
              "      <td>72</td>\n",
              "      <td>-</td>\n",
              "      <td>-</td>\n",
              "      <td>-</td>\n",
              "      <td>Scrooge</td>\n",
              "      <td>McDuck</td>\n",
              "    </tr>\n",
              "    <tr>\n",
              "      <th>4</th>\n",
              "      <td>5.0</td>\n",
              "      <td>54.0</td>\n",
              "      <td>90kgs</td>\n",
              "      <td>-</td>\n",
              "      <td>-</td>\n",
              "      <td>-</td>\n",
              "      <td>69</td>\n",
              "      <td>NaN</td>\n",
              "      <td>75</td>\n",
              "      <td>Pink</td>\n",
              "      <td>Panther</td>\n",
              "    </tr>\n",
              "  </tbody>\n",
              "</table>\n",
              "</div>"
            ],
            "text/plain": [
              "    Id   Age Weight m0006 m0612 m1218 f0006 f0612 f1218 Firstname Lastname\n",
              "0  1.0  56.0  70kgs    72    69    71     -     -     -     Micky     Mous\n",
              "1  2.0  34.0  70kgs     -     -     -    85    84    76    Donald     Duck\n",
              "2  3.0  16.0    NaN     -     -     -    65    69    72      Mini    Mouse\n",
              "3  4.0   NaN  78kgs    78    79    72     -     -     -   Scrooge   McDuck\n",
              "4  5.0  54.0  90kgs     -     -     -    69   NaN    75      Pink  Panther"
            ]
          },
          "metadata": {},
          "execution_count": 6
        }
      ]
    },
    {
      "cell_type": "code",
      "metadata": {
        "colab": {
          "base_uri": "https://localhost:8080/"
        },
        "id": "oHMIkqutq2L2",
        "outputId": "5337428e-a19c-47b3-c42d-71d7a9e97e68"
      },
      "source": [
        "index_ageweightnull = df[df['Age'].isna() & df['Weight'].isna()].index\n",
        "index_ageweightnull"
      ],
      "execution_count": 7,
      "outputs": [
        {
          "output_type": "execute_result",
          "data": {
            "text/plain": [
              "Int64Index([14, 15], dtype='int64')"
            ]
          },
          "metadata": {},
          "execution_count": 7
        }
      ]
    },
    {
      "cell_type": "code",
      "metadata": {
        "colab": {
          "base_uri": "https://localhost:8080/",
          "height": 206
        },
        "id": "Z101s0nGq7rn",
        "outputId": "ee8155bf-8179-4d66-a484-7d52404d4de3"
      },
      "source": [
        "df.drop(index_ageweightnull, inplace=True)\n",
        "df.head(5)"
      ],
      "execution_count": 8,
      "outputs": [
        {
          "output_type": "execute_result",
          "data": {
            "text/html": [
              "<div>\n",
              "<style scoped>\n",
              "    .dataframe tbody tr th:only-of-type {\n",
              "        vertical-align: middle;\n",
              "    }\n",
              "\n",
              "    .dataframe tbody tr th {\n",
              "        vertical-align: top;\n",
              "    }\n",
              "\n",
              "    .dataframe thead th {\n",
              "        text-align: right;\n",
              "    }\n",
              "</style>\n",
              "<table border=\"1\" class=\"dataframe\">\n",
              "  <thead>\n",
              "    <tr style=\"text-align: right;\">\n",
              "      <th></th>\n",
              "      <th>Id</th>\n",
              "      <th>Age</th>\n",
              "      <th>Weight</th>\n",
              "      <th>m0006</th>\n",
              "      <th>m0612</th>\n",
              "      <th>m1218</th>\n",
              "      <th>f0006</th>\n",
              "      <th>f0612</th>\n",
              "      <th>f1218</th>\n",
              "      <th>Firstname</th>\n",
              "      <th>Lastname</th>\n",
              "    </tr>\n",
              "  </thead>\n",
              "  <tbody>\n",
              "    <tr>\n",
              "      <th>0</th>\n",
              "      <td>1.0</td>\n",
              "      <td>56.0</td>\n",
              "      <td>70kgs</td>\n",
              "      <td>72</td>\n",
              "      <td>69</td>\n",
              "      <td>71</td>\n",
              "      <td>-</td>\n",
              "      <td>-</td>\n",
              "      <td>-</td>\n",
              "      <td>Micky</td>\n",
              "      <td>Mous</td>\n",
              "    </tr>\n",
              "    <tr>\n",
              "      <th>1</th>\n",
              "      <td>2.0</td>\n",
              "      <td>34.0</td>\n",
              "      <td>70kgs</td>\n",
              "      <td>-</td>\n",
              "      <td>-</td>\n",
              "      <td>-</td>\n",
              "      <td>85</td>\n",
              "      <td>84</td>\n",
              "      <td>76</td>\n",
              "      <td>Donald</td>\n",
              "      <td>Duck</td>\n",
              "    </tr>\n",
              "    <tr>\n",
              "      <th>2</th>\n",
              "      <td>3.0</td>\n",
              "      <td>16.0</td>\n",
              "      <td>NaN</td>\n",
              "      <td>-</td>\n",
              "      <td>-</td>\n",
              "      <td>-</td>\n",
              "      <td>65</td>\n",
              "      <td>69</td>\n",
              "      <td>72</td>\n",
              "      <td>Mini</td>\n",
              "      <td>Mouse</td>\n",
              "    </tr>\n",
              "    <tr>\n",
              "      <th>3</th>\n",
              "      <td>4.0</td>\n",
              "      <td>NaN</td>\n",
              "      <td>78kgs</td>\n",
              "      <td>78</td>\n",
              "      <td>79</td>\n",
              "      <td>72</td>\n",
              "      <td>-</td>\n",
              "      <td>-</td>\n",
              "      <td>-</td>\n",
              "      <td>Scrooge</td>\n",
              "      <td>McDuck</td>\n",
              "    </tr>\n",
              "    <tr>\n",
              "      <th>4</th>\n",
              "      <td>5.0</td>\n",
              "      <td>54.0</td>\n",
              "      <td>90kgs</td>\n",
              "      <td>-</td>\n",
              "      <td>-</td>\n",
              "      <td>-</td>\n",
              "      <td>69</td>\n",
              "      <td>NaN</td>\n",
              "      <td>75</td>\n",
              "      <td>Pink</td>\n",
              "      <td>Panther</td>\n",
              "    </tr>\n",
              "  </tbody>\n",
              "</table>\n",
              "</div>"
            ],
            "text/plain": [
              "    Id   Age Weight m0006 m0612 m1218 f0006 f0612 f1218 Firstname Lastname\n",
              "0  1.0  56.0  70kgs    72    69    71     -     -     -     Micky     Mous\n",
              "1  2.0  34.0  70kgs     -     -     -    85    84    76    Donald     Duck\n",
              "2  3.0  16.0    NaN     -     -     -    65    69    72      Mini    Mouse\n",
              "3  4.0   NaN  78kgs    78    79    72     -     -     -   Scrooge   McDuck\n",
              "4  5.0  54.0  90kgs     -     -     -    69   NaN    75      Pink  Panther"
            ]
          },
          "metadata": {},
          "execution_count": 8
        }
      ]
    },
    {
      "cell_type": "code",
      "metadata": {
        "colab": {
          "base_uri": "https://localhost:8080/"
        },
        "id": "wUf0myGrq_b5",
        "outputId": "968ff99f-f224-4c64-860f-cfc96fe260c4"
      },
      "source": [
        "df['Age'].fillna(df['Age'].mean(), inplace =False)"
      ],
      "execution_count": 9,
      "outputs": [
        {
          "output_type": "execute_result",
          "data": {
            "text/plain": [
              "0     56.0\n",
              "1     34.0\n",
              "2     16.0\n",
              "3     36.1\n",
              "4     54.0\n",
              "5     52.0\n",
              "6     19.0\n",
              "7     32.0\n",
              "11    12.0\n",
              "12    36.1\n",
              "13    34.0\n",
              "16    52.0\n",
              "Name: Age, dtype: float64"
            ]
          },
          "metadata": {},
          "execution_count": 9
        }
      ]
    },
    {
      "cell_type": "code",
      "metadata": {
        "colab": {
          "base_uri": "https://localhost:8080/",
          "height": 426
        },
        "id": "bmNTI3fSrEOI",
        "outputId": "1f64c507-14db-44f8-c055-e62e9181b4a6"
      },
      "source": [
        "df"
      ],
      "execution_count": 10,
      "outputs": [
        {
          "output_type": "execute_result",
          "data": {
            "text/html": [
              "<div>\n",
              "<style scoped>\n",
              "    .dataframe tbody tr th:only-of-type {\n",
              "        vertical-align: middle;\n",
              "    }\n",
              "\n",
              "    .dataframe tbody tr th {\n",
              "        vertical-align: top;\n",
              "    }\n",
              "\n",
              "    .dataframe thead th {\n",
              "        text-align: right;\n",
              "    }\n",
              "</style>\n",
              "<table border=\"1\" class=\"dataframe\">\n",
              "  <thead>\n",
              "    <tr style=\"text-align: right;\">\n",
              "      <th></th>\n",
              "      <th>Id</th>\n",
              "      <th>Age</th>\n",
              "      <th>Weight</th>\n",
              "      <th>m0006</th>\n",
              "      <th>m0612</th>\n",
              "      <th>m1218</th>\n",
              "      <th>f0006</th>\n",
              "      <th>f0612</th>\n",
              "      <th>f1218</th>\n",
              "      <th>Firstname</th>\n",
              "      <th>Lastname</th>\n",
              "    </tr>\n",
              "  </thead>\n",
              "  <tbody>\n",
              "    <tr>\n",
              "      <th>0</th>\n",
              "      <td>1.0</td>\n",
              "      <td>56.0</td>\n",
              "      <td>70kgs</td>\n",
              "      <td>72</td>\n",
              "      <td>69</td>\n",
              "      <td>71</td>\n",
              "      <td>-</td>\n",
              "      <td>-</td>\n",
              "      <td>-</td>\n",
              "      <td>Micky</td>\n",
              "      <td>Mous</td>\n",
              "    </tr>\n",
              "    <tr>\n",
              "      <th>1</th>\n",
              "      <td>2.0</td>\n",
              "      <td>34.0</td>\n",
              "      <td>70kgs</td>\n",
              "      <td>-</td>\n",
              "      <td>-</td>\n",
              "      <td>-</td>\n",
              "      <td>85</td>\n",
              "      <td>84</td>\n",
              "      <td>76</td>\n",
              "      <td>Donald</td>\n",
              "      <td>Duck</td>\n",
              "    </tr>\n",
              "    <tr>\n",
              "      <th>2</th>\n",
              "      <td>3.0</td>\n",
              "      <td>16.0</td>\n",
              "      <td>NaN</td>\n",
              "      <td>-</td>\n",
              "      <td>-</td>\n",
              "      <td>-</td>\n",
              "      <td>65</td>\n",
              "      <td>69</td>\n",
              "      <td>72</td>\n",
              "      <td>Mini</td>\n",
              "      <td>Mouse</td>\n",
              "    </tr>\n",
              "    <tr>\n",
              "      <th>3</th>\n",
              "      <td>4.0</td>\n",
              "      <td>NaN</td>\n",
              "      <td>78kgs</td>\n",
              "      <td>78</td>\n",
              "      <td>79</td>\n",
              "      <td>72</td>\n",
              "      <td>-</td>\n",
              "      <td>-</td>\n",
              "      <td>-</td>\n",
              "      <td>Scrooge</td>\n",
              "      <td>McDuck</td>\n",
              "    </tr>\n",
              "    <tr>\n",
              "      <th>4</th>\n",
              "      <td>5.0</td>\n",
              "      <td>54.0</td>\n",
              "      <td>90kgs</td>\n",
              "      <td>-</td>\n",
              "      <td>-</td>\n",
              "      <td>-</td>\n",
              "      <td>69</td>\n",
              "      <td>NaN</td>\n",
              "      <td>75</td>\n",
              "      <td>Pink</td>\n",
              "      <td>Panther</td>\n",
              "    </tr>\n",
              "    <tr>\n",
              "      <th>5</th>\n",
              "      <td>6.0</td>\n",
              "      <td>52.0</td>\n",
              "      <td>85kgs</td>\n",
              "      <td>-</td>\n",
              "      <td>-</td>\n",
              "      <td>-</td>\n",
              "      <td>68</td>\n",
              "      <td>75</td>\n",
              "      <td>72</td>\n",
              "      <td>Huey</td>\n",
              "      <td>McDuck</td>\n",
              "    </tr>\n",
              "    <tr>\n",
              "      <th>6</th>\n",
              "      <td>7.0</td>\n",
              "      <td>19.0</td>\n",
              "      <td>56kgs</td>\n",
              "      <td>-</td>\n",
              "      <td>-</td>\n",
              "      <td>-</td>\n",
              "      <td>71</td>\n",
              "      <td>78</td>\n",
              "      <td>75</td>\n",
              "      <td>Dewey</td>\n",
              "      <td>McDuck</td>\n",
              "    </tr>\n",
              "    <tr>\n",
              "      <th>7</th>\n",
              "      <td>8.0</td>\n",
              "      <td>32.0</td>\n",
              "      <td>78kgs</td>\n",
              "      <td>78</td>\n",
              "      <td>76</td>\n",
              "      <td>75</td>\n",
              "      <td>-</td>\n",
              "      <td>-</td>\n",
              "      <td>-</td>\n",
              "      <td>Scpy</td>\n",
              "      <td>Doo</td>\n",
              "    </tr>\n",
              "    <tr>\n",
              "      <th>11</th>\n",
              "      <td>10.0</td>\n",
              "      <td>12.0</td>\n",
              "      <td>45kgs</td>\n",
              "      <td>-</td>\n",
              "      <td>-</td>\n",
              "      <td>-</td>\n",
              "      <td>92</td>\n",
              "      <td>95</td>\n",
              "      <td>87</td>\n",
              "      <td>Louie</td>\n",
              "      <td>McDuck</td>\n",
              "    </tr>\n",
              "    <tr>\n",
              "      <th>12</th>\n",
              "      <td>11.0</td>\n",
              "      <td>NaN</td>\n",
              "      <td>60kgs</td>\n",
              "      <td>78</td>\n",
              "      <td>75</td>\n",
              "      <td>72</td>\n",
              "      <td>-</td>\n",
              "      <td>-</td>\n",
              "      <td>-</td>\n",
              "      <td>Henry</td>\n",
              "      <td>Nam</td>\n",
              "    </tr>\n",
              "    <tr>\n",
              "      <th>13</th>\n",
              "      <td>12.0</td>\n",
              "      <td>34.0</td>\n",
              "      <td>NaN</td>\n",
              "      <td>65</td>\n",
              "      <td>67</td>\n",
              "      <td>55</td>\n",
              "      <td>-</td>\n",
              "      <td>-</td>\n",
              "      <td>-</td>\n",
              "      <td>Michel</td>\n",
              "      <td>Long</td>\n",
              "    </tr>\n",
              "    <tr>\n",
              "      <th>16</th>\n",
              "      <td>15.0</td>\n",
              "      <td>52.0</td>\n",
              "      <td>81kgs</td>\n",
              "      <td>-</td>\n",
              "      <td>-</td>\n",
              "      <td>-</td>\n",
              "      <td>68</td>\n",
              "      <td>75</td>\n",
              "      <td>72</td>\n",
              "      <td>NaN</td>\n",
              "      <td>NaN</td>\n",
              "    </tr>\n",
              "  </tbody>\n",
              "</table>\n",
              "</div>"
            ],
            "text/plain": [
              "      Id   Age Weight m0006 m0612 m1218 f0006 f0612 f1218 Firstname Lastname\n",
              "0    1.0  56.0  70kgs    72    69    71     -     -     -     Micky     Mous\n",
              "1    2.0  34.0  70kgs     -     -     -    85    84    76    Donald     Duck\n",
              "2    3.0  16.0    NaN     -     -     -    65    69    72      Mini    Mouse\n",
              "3    4.0   NaN  78kgs    78    79    72     -     -     -   Scrooge   McDuck\n",
              "4    5.0  54.0  90kgs     -     -     -    69   NaN    75      Pink  Panther\n",
              "5    6.0  52.0  85kgs     -     -     -    68    75    72      Huey   McDuck\n",
              "6    7.0  19.0  56kgs     -     -     -    71    78    75     Dewey   McDuck\n",
              "7    8.0  32.0  78kgs    78    76    75     -     -     -      Scpy      Doo\n",
              "11  10.0  12.0  45kgs     -     -     -    92    95    87     Louie   McDuck\n",
              "12  11.0   NaN  60kgs    78    75    72     -     -     -     Henry      Nam\n",
              "13  12.0  34.0    NaN    65    67    55     -     -     -    Michel     Long\n",
              "16  15.0  52.0  81kgs     -     -     -    68    75    72       NaN      NaN"
            ]
          },
          "metadata": {},
          "execution_count": 10
        }
      ]
    },
    {
      "cell_type": "code",
      "metadata": {
        "id": "o1DAREh7rPuo"
      },
      "source": [
        "df = pd.melt(df, id_vars=['Id', 'Age', 'Weight', 'Firstname', 'Lastname'], value_name=\"PulseRate\",var_name='sex_and_time').sort_values(['Id', 'Age', 'Weight', 'Firstname', 'Lastname'])"
      ],
      "execution_count": 21,
      "outputs": []
    },
    {
      "cell_type": "code",
      "metadata": {
        "colab": {
          "base_uri": "https://localhost:8080/",
          "height": 423
        },
        "id": "MKvenU0Os3pY",
        "outputId": "2830bdf5-9967-4198-8f4f-e1aad53d8c58"
      },
      "source": [
        "df"
      ],
      "execution_count": 22,
      "outputs": [
        {
          "output_type": "execute_result",
          "data": {
            "text/html": [
              "<div>\n",
              "<style scoped>\n",
              "    .dataframe tbody tr th:only-of-type {\n",
              "        vertical-align: middle;\n",
              "    }\n",
              "\n",
              "    .dataframe tbody tr th {\n",
              "        vertical-align: top;\n",
              "    }\n",
              "\n",
              "    .dataframe thead th {\n",
              "        text-align: right;\n",
              "    }\n",
              "</style>\n",
              "<table border=\"1\" class=\"dataframe\">\n",
              "  <thead>\n",
              "    <tr style=\"text-align: right;\">\n",
              "      <th></th>\n",
              "      <th>Id</th>\n",
              "      <th>Age</th>\n",
              "      <th>Weight</th>\n",
              "      <th>Firstname</th>\n",
              "      <th>Lastname</th>\n",
              "      <th>sex_and_time</th>\n",
              "      <th>PulseRate</th>\n",
              "    </tr>\n",
              "  </thead>\n",
              "  <tbody>\n",
              "    <tr>\n",
              "      <th>0</th>\n",
              "      <td>1.0</td>\n",
              "      <td>56.0</td>\n",
              "      <td>70kgs</td>\n",
              "      <td>Micky</td>\n",
              "      <td>Mous</td>\n",
              "      <td>m0006</td>\n",
              "      <td>72</td>\n",
              "    </tr>\n",
              "    <tr>\n",
              "      <th>12</th>\n",
              "      <td>1.0</td>\n",
              "      <td>56.0</td>\n",
              "      <td>70kgs</td>\n",
              "      <td>Micky</td>\n",
              "      <td>Mous</td>\n",
              "      <td>m0612</td>\n",
              "      <td>69</td>\n",
              "    </tr>\n",
              "    <tr>\n",
              "      <th>24</th>\n",
              "      <td>1.0</td>\n",
              "      <td>56.0</td>\n",
              "      <td>70kgs</td>\n",
              "      <td>Micky</td>\n",
              "      <td>Mous</td>\n",
              "      <td>m1218</td>\n",
              "      <td>71</td>\n",
              "    </tr>\n",
              "    <tr>\n",
              "      <th>36</th>\n",
              "      <td>1.0</td>\n",
              "      <td>56.0</td>\n",
              "      <td>70kgs</td>\n",
              "      <td>Micky</td>\n",
              "      <td>Mous</td>\n",
              "      <td>f0006</td>\n",
              "      <td>-</td>\n",
              "    </tr>\n",
              "    <tr>\n",
              "      <th>48</th>\n",
              "      <td>1.0</td>\n",
              "      <td>56.0</td>\n",
              "      <td>70kgs</td>\n",
              "      <td>Micky</td>\n",
              "      <td>Mous</td>\n",
              "      <td>f0612</td>\n",
              "      <td>-</td>\n",
              "    </tr>\n",
              "    <tr>\n",
              "      <th>...</th>\n",
              "      <td>...</td>\n",
              "      <td>...</td>\n",
              "      <td>...</td>\n",
              "      <td>...</td>\n",
              "      <td>...</td>\n",
              "      <td>...</td>\n",
              "      <td>...</td>\n",
              "    </tr>\n",
              "    <tr>\n",
              "      <th>23</th>\n",
              "      <td>15.0</td>\n",
              "      <td>52.0</td>\n",
              "      <td>81kgs</td>\n",
              "      <td>NaN</td>\n",
              "      <td>NaN</td>\n",
              "      <td>m0612</td>\n",
              "      <td>-</td>\n",
              "    </tr>\n",
              "    <tr>\n",
              "      <th>35</th>\n",
              "      <td>15.0</td>\n",
              "      <td>52.0</td>\n",
              "      <td>81kgs</td>\n",
              "      <td>NaN</td>\n",
              "      <td>NaN</td>\n",
              "      <td>m1218</td>\n",
              "      <td>-</td>\n",
              "    </tr>\n",
              "    <tr>\n",
              "      <th>47</th>\n",
              "      <td>15.0</td>\n",
              "      <td>52.0</td>\n",
              "      <td>81kgs</td>\n",
              "      <td>NaN</td>\n",
              "      <td>NaN</td>\n",
              "      <td>f0006</td>\n",
              "      <td>68</td>\n",
              "    </tr>\n",
              "    <tr>\n",
              "      <th>59</th>\n",
              "      <td>15.0</td>\n",
              "      <td>52.0</td>\n",
              "      <td>81kgs</td>\n",
              "      <td>NaN</td>\n",
              "      <td>NaN</td>\n",
              "      <td>f0612</td>\n",
              "      <td>75</td>\n",
              "    </tr>\n",
              "    <tr>\n",
              "      <th>71</th>\n",
              "      <td>15.0</td>\n",
              "      <td>52.0</td>\n",
              "      <td>81kgs</td>\n",
              "      <td>NaN</td>\n",
              "      <td>NaN</td>\n",
              "      <td>f1218</td>\n",
              "      <td>72</td>\n",
              "    </tr>\n",
              "  </tbody>\n",
              "</table>\n",
              "<p>72 rows × 7 columns</p>\n",
              "</div>"
            ],
            "text/plain": [
              "      Id   Age Weight Firstname Lastname sex_and_time PulseRate\n",
              "0    1.0  56.0  70kgs     Micky     Mous        m0006        72\n",
              "12   1.0  56.0  70kgs     Micky     Mous        m0612        69\n",
              "24   1.0  56.0  70kgs     Micky     Mous        m1218        71\n",
              "36   1.0  56.0  70kgs     Micky     Mous        f0006         -\n",
              "48   1.0  56.0  70kgs     Micky     Mous        f0612         -\n",
              "..   ...   ...    ...       ...      ...          ...       ...\n",
              "23  15.0  52.0  81kgs       NaN      NaN        m0612         -\n",
              "35  15.0  52.0  81kgs       NaN      NaN        m1218         -\n",
              "47  15.0  52.0  81kgs       NaN      NaN        f0006        68\n",
              "59  15.0  52.0  81kgs       NaN      NaN        f0612        75\n",
              "71  15.0  52.0  81kgs       NaN      NaN        f1218        72\n",
              "\n",
              "[72 rows x 7 columns]"
            ]
          },
          "metadata": {},
          "execution_count": 22
        }
      ]
    },
    {
      "cell_type": "code",
      "metadata": {
        "id": "pvWYwwFKs5y9"
      },
      "source": [
        "tmp_df= df[\"sex_and_time\"].str.extract(\"(\\D)(\\d+)(\\d{2})\", expand=True)"
      ],
      "execution_count": 28,
      "outputs": []
    },
    {
      "cell_type": "code",
      "metadata": {
        "colab": {
          "base_uri": "https://localhost:8080/",
          "height": 206
        },
        "id": "1gvh1v_6tN7W",
        "outputId": "77fc8492-4a5a-403e-b6ab-ca0692d90053"
      },
      "source": [
        "tmp_df.head(5)"
      ],
      "execution_count": 29,
      "outputs": [
        {
          "output_type": "execute_result",
          "data": {
            "text/html": [
              "<div>\n",
              "<style scoped>\n",
              "    .dataframe tbody tr th:only-of-type {\n",
              "        vertical-align: middle;\n",
              "    }\n",
              "\n",
              "    .dataframe tbody tr th {\n",
              "        vertical-align: top;\n",
              "    }\n",
              "\n",
              "    .dataframe thead th {\n",
              "        text-align: right;\n",
              "    }\n",
              "</style>\n",
              "<table border=\"1\" class=\"dataframe\">\n",
              "  <thead>\n",
              "    <tr style=\"text-align: right;\">\n",
              "      <th></th>\n",
              "      <th>0</th>\n",
              "      <th>1</th>\n",
              "      <th>2</th>\n",
              "    </tr>\n",
              "  </thead>\n",
              "  <tbody>\n",
              "    <tr>\n",
              "      <th>0</th>\n",
              "      <td>m</td>\n",
              "      <td>00</td>\n",
              "      <td>06</td>\n",
              "    </tr>\n",
              "    <tr>\n",
              "      <th>12</th>\n",
              "      <td>m</td>\n",
              "      <td>06</td>\n",
              "      <td>12</td>\n",
              "    </tr>\n",
              "    <tr>\n",
              "      <th>24</th>\n",
              "      <td>m</td>\n",
              "      <td>12</td>\n",
              "      <td>18</td>\n",
              "    </tr>\n",
              "    <tr>\n",
              "      <th>36</th>\n",
              "      <td>f</td>\n",
              "      <td>00</td>\n",
              "      <td>06</td>\n",
              "    </tr>\n",
              "    <tr>\n",
              "      <th>48</th>\n",
              "      <td>f</td>\n",
              "      <td>06</td>\n",
              "      <td>12</td>\n",
              "    </tr>\n",
              "  </tbody>\n",
              "</table>\n",
              "</div>"
            ],
            "text/plain": [
              "    0   1   2\n",
              "0   m  00  06\n",
              "12  m  06  12\n",
              "24  m  12  18\n",
              "36  f  00  06\n",
              "48  f  06  12"
            ]
          },
          "metadata": {},
          "execution_count": 29
        }
      ]
    },
    {
      "cell_type": "code",
      "metadata": {
        "id": "JL4mJWgJs9EG"
      },
      "source": [
        "tmp_df.columns=[\"Sex\",\"hours_lower\",\"hours_upper\"]"
      ],
      "execution_count": 24,
      "outputs": []
    },
    {
      "cell_type": "code",
      "metadata": {
        "colab": {
          "base_uri": "https://localhost:8080/",
          "height": 206
        },
        "id": "7QYXIfJWtQP-",
        "outputId": "50ec6111-9dc4-4b9b-907f-eedc552ac9c1"
      },
      "source": [
        "tmp_df.head(5)"
      ],
      "execution_count": 30,
      "outputs": [
        {
          "output_type": "execute_result",
          "data": {
            "text/html": [
              "<div>\n",
              "<style scoped>\n",
              "    .dataframe tbody tr th:only-of-type {\n",
              "        vertical-align: middle;\n",
              "    }\n",
              "\n",
              "    .dataframe tbody tr th {\n",
              "        vertical-align: top;\n",
              "    }\n",
              "\n",
              "    .dataframe thead th {\n",
              "        text-align: right;\n",
              "    }\n",
              "</style>\n",
              "<table border=\"1\" class=\"dataframe\">\n",
              "  <thead>\n",
              "    <tr style=\"text-align: right;\">\n",
              "      <th></th>\n",
              "      <th>0</th>\n",
              "      <th>1</th>\n",
              "      <th>2</th>\n",
              "    </tr>\n",
              "  </thead>\n",
              "  <tbody>\n",
              "    <tr>\n",
              "      <th>0</th>\n",
              "      <td>m</td>\n",
              "      <td>00</td>\n",
              "      <td>06</td>\n",
              "    </tr>\n",
              "    <tr>\n",
              "      <th>12</th>\n",
              "      <td>m</td>\n",
              "      <td>06</td>\n",
              "      <td>12</td>\n",
              "    </tr>\n",
              "    <tr>\n",
              "      <th>24</th>\n",
              "      <td>m</td>\n",
              "      <td>12</td>\n",
              "      <td>18</td>\n",
              "    </tr>\n",
              "    <tr>\n",
              "      <th>36</th>\n",
              "      <td>f</td>\n",
              "      <td>00</td>\n",
              "      <td>06</td>\n",
              "    </tr>\n",
              "    <tr>\n",
              "      <th>48</th>\n",
              "      <td>f</td>\n",
              "      <td>06</td>\n",
              "      <td>12</td>\n",
              "    </tr>\n",
              "  </tbody>\n",
              "</table>\n",
              "</div>"
            ],
            "text/plain": [
              "    0   1   2\n",
              "0   m  00  06\n",
              "12  m  06  12\n",
              "24  m  12  18\n",
              "36  f  00  06\n",
              "48  f  06  12"
            ]
          },
          "metadata": {},
          "execution_count": 30
        }
      ]
    },
    {
      "cell_type": "code",
      "metadata": {
        "colab": {
          "base_uri": "https://localhost:8080/"
        },
        "id": "3XOv4LlEuDqP",
        "outputId": "f119967f-1489-4771-d0f4-3a7a4c7de5b6"
      },
      "source": [
        "from google.colab import drive\n",
        "drive.mount('/drive')"
      ],
      "execution_count": 39,
      "outputs": [
        {
          "output_type": "stream",
          "name": "stdout",
          "text": [
            "Mounted at /drive\n"
          ]
        }
      ]
    },
    {
      "cell_type": "code",
      "metadata": {
        "id": "bTW7IotUuK5v"
      },
      "source": [
        "df.to_csv('patient_heart_rate_clean.csv')"
      ],
      "execution_count": 40,
      "outputs": []
    }
  ]
}